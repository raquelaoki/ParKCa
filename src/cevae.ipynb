{
  "nbformat": 4,
  "nbformat_minor": 0,
  "metadata": {
    "colab": {
      "name": "parkca.ipynb",
      "provenance": [],
      "collapsed_sections": []
    },
    "kernelspec": {
      "name": "python3",
      "display_name": "Python 3"
    },
    "accelerator": "GPU"
  },
  "cells": [
    {
      "cell_type": "code",
      "metadata": {
        "id": "rYpyv0lHdC7B",
        "colab_type": "code",
        "colab": {}
      },
      "source": [
        "import sys\n",
        "import os\n",
        "import pandas as pd\n",
        "import numpy as np\n",
        "import warnings\n",
        "import time\n",
        "import matplotlib.pyplot as plt\n",
        "import numpy.random as npr\n",
        "import random\n",
        "randseed = 123\n",
        "print(\"random seed: \", randseed)\n",
        "random.seed(randseed)\n",
        "np.random.seed(randseed)\n",
        "from google.colab import files\n"
      ],
      "execution_count": 0,
      "outputs": []
    },
    {
      "cell_type": "code",
      "metadata": {
        "id": "V8_iLss8fxCP",
        "colab_type": "code",
        "colab": {}
      },
      "source": [
        "src = list(files.upload().values())[0]\n",
        "open('CEVAE_FUNCTIONS.py','wb').write(src)\n",
        "from CEVAE_FUNCTIONS import DATA, Evaluator, get_y0_y1, init_qz,p_x_z, p_t_z, p_y_zt, q_t_x, q_y_xt, q_z_tyx"
      ],
      "execution_count": 0,
      "outputs": []
    },
    {
      "cell_type": "code",
      "metadata": {
        "id": "tI7YcZztzd9w",
        "colab_type": "code",
        "colab": {}
      },
      "source": [
        "src = list(files.upload().values())[0]\n",
        "open('CEVAE.py','wb').write(src)\n",
        "import CEVAE as cevae "
      ],
      "execution_count": 0,
      "outputs": []
    },
    {
      "cell_type": "code",
      "metadata": {
        "id": "pMfLfSBXmm--",
        "colab_type": "code",
        "colab": {}
      },
      "source": [
        "#zip with 3 files\n",
        "files.upload()"
      ],
      "execution_count": 0,
      "outputs": []
    },
    {
      "cell_type": "code",
      "metadata": {
        "id": "X3tTj-TjqKV-",
        "colab_type": "code",
        "colab": {}
      },
      "source": [
        "!unzip snp_simulated1_8.zip\n",
        "!mkdir -p data_s\n",
        "!mv snp_simulated1_8.txt data_s/\n",
        "!mv snp_simulated1_truecauses.txt data_s/\n",
        "!mv snp_simulated1_y01.txt data_s/\n",
        "!mkdir -p results\n"
      ],
      "execution_count": 0,
      "outputs": []
    },
    {
      "cell_type": "code",
      "metadata": {
        "id": "0Ffo20iYdIwB",
        "colab_type": "code",
        "colab": {}
      },
      "source": [
        "version = 8\n",
        "start = 0\n",
        "nsim = 5000\n",
        "letter = 'a'\n",
        "\n",
        "pd.set_option('display.max_columns', 500)\n",
        "\n",
        "from scipy.stats import ttest_ind,ttest_rel\n",
        "\n",
        "n_units = 5000\n",
        "n_causes = 10000# 10% var\n",
        "\n",
        "\n",
        "start_time = time.time()\n",
        "train_path = 'data_s//snp_simulated1_'+str(version)+'.txt'\n",
        "y01_path = 'data_s//snp_simulated1_y01.txt'\n",
        "y01 = np.asmatrix(pd.read_pickle(y01_path))[:,version]\n",
        "at0 = []\n",
        "at1 = []\n",
        "cate = []\n",
        "y01_predicted =[]\n",
        "y01_ = []\n"
      ],
      "execution_count": 0,
      "outputs": []
    },
    {
      "cell_type": "code",
      "metadata": {
        "id": "WCQzMwbZdLgL",
        "colab_type": "code",
        "colab": {}
      },
      "source": [
        "for (y0, y1, y10, y01_pred, yte) in cevae.model(n_causes,train_path,y01,start,version,nsim):\n",
        "    at0.append(y0)\n",
        "    at1.append(y1)\n",
        "    cate.append(y10)\n",
        "    y01_predicted.append(y01_pred)\n",
        "    y01_.append(yte)\n",
        "    if len(at0)%200 == 0:\n",
        "        output = pd.DataFrame({'at0':at0,\n",
        "                               'at1':at1,\n",
        "                               'cate':cate})\n",
        "\n",
        "        predictions = np.stack( y01_predicted, axis=0 ).reshape(len(y01_predicted),len(y01_predicted[0]))\n",
        "        testing_set = np.stack( y01_, axis=0 ).reshape(len(y01_),len(y01_[0]))\n",
        "        predictions = pd.DataFrame(np.transpose(predictions))\n",
        "        testing_set = pd.DataFrame(np.transpose(testing_set))\n",
        "        output.to_pickle('results//cevae_output_sim'+str(version)+'_'+letter+'.txt')\n",
        "        predictions.to_pickle('results//cevae_pred'+str(version)+'_'+letter+'.txt')\n",
        "        testing_set.to_pickle('results//cevae_test'+str(version)+'_'+letter+'.txt')\n",
        "\n",
        "\n",
        "output = pd.DataFrame({'at0':at0,'at1':at1,'cate':cate})\n",
        "\n",
        "predictions = np.stack( y01_predicted, axis=0 ).reshape(len(y01_predicted),len(y01_predicted[0]))\n",
        "testing_set = np.stack( y01_, axis=0 ).reshape(len(y01_),len(y01_[0]))\n",
        "predictions = pd.DataFrame(np.transpose(predictions))\n",
        "testing_set = pd.DataFrame(np.transpose(testing_set))\n",
        "\n",
        "#_2 : from 0-5000\n",
        "output.to_pickle('results//cevae_output_sim'+str(version)+'_'+letter+'.txt')\n",
        "predictions.to_pickle('results//cevae_pred'+str(version)+'_'+letter+'.txt')\n",
        "testing_set.to_pickle('results//cevae_test'+str(version)+'_'+letter+'.txt')\n",
        "print(\"--- %s minutes ---\" % str((time.time() - start_time)/60))\n",
        "\n",
        "!zip -r results_sim5_7000_9999.zip results/\n"
      ],
      "execution_count": 0,
      "outputs": []
    }
  ]
}