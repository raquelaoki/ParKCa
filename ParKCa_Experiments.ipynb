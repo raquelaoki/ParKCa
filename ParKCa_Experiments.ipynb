{
  "nbformat": 4,
  "nbformat_minor": 0,
  "metadata": {
    "colab": {
      "name": "ParKCa_Experiments.ipynb",
      "provenance": [],
      "collapsed_sections": []
    },
    "kernelspec": {
      "name": "python3",
      "display_name": "Python 3"
    },
    "language_info": {
      "name": "python"
    },
    "accelerator": "GPU"
  },
  "cells": [
    {
      "cell_type": "code",
      "metadata": {
        "id": "DrIcSLnIJDHQ",
        "colab": {
          "base_uri": "https://localhost:8080/"
        },
        "outputId": "5cbde708-243d-4f1b-de9b-2c6e4028a01e"
      },
      "source": [
        "!git clone https://github.com/raquelaoki/ParKCa.git\n",
        "!git clone https://github.com/raquelaoki/CompBioAndSimulated_Datasets.git\n",
        "!git clone https://github.com/JakeColtman/bartpy.git"
      ],
      "execution_count": 1,
      "outputs": [
        {
          "output_type": "stream",
          "text": [
            "Cloning into 'ParKCa'...\n",
            "remote: Enumerating objects: 375, done.\u001b[K\n",
            "remote: Counting objects: 100% (375/375), done.\u001b[K\n",
            "remote: Compressing objects: 100% (267/267), done.\u001b[K\n",
            "remote: Total 971 (delta 256), reused 201 (delta 107), pack-reused 596\u001b[K\n",
            "Receiving objects: 100% (971/971), 3.19 MiB | 24.96 MiB/s, done.\n",
            "Resolving deltas: 100% (636/636), done.\n",
            "Cloning into 'CompBioAndSimulated_Datasets'...\n",
            "remote: Enumerating objects: 77, done.\u001b[K\n",
            "remote: Counting objects: 100% (77/77), done.\u001b[K\n",
            "remote: Compressing objects: 100% (58/58), done.\u001b[K\n",
            "remote: Total 77 (delta 43), reused 46 (delta 19), pack-reused 0\u001b[K\n",
            "Unpacking objects: 100% (77/77), done.\n",
            "Cloning into 'bartpy'...\n",
            "remote: Enumerating objects: 1971, done.\u001b[K\n",
            "remote: Total 1971 (delta 0), reused 0 (delta 0), pack-reused 1971\u001b[K\n",
            "Receiving objects: 100% (1971/1971), 11.97 MiB | 9.64 MiB/s, done.\n",
            "Resolving deltas: 100% (1329/1329), done.\n"
          ],
          "name": "stdout"
        }
      ]
    },
    {
      "cell_type": "markdown",
      "metadata": {
        "id": "te2_h7n5FIpn"
      },
      "source": [
        "Loading data"
      ]
    },
    {
      "cell_type": "code",
      "metadata": {
        "colab": {
          "base_uri": "https://localhost:8080/"
        },
        "id": "HMWOUXwMomAx",
        "outputId": "0dfa01a3-51dd-4050-ae6c-5a330ffb13c4"
      },
      "source": [
        "import sys\n",
        "sys.path.insert(0,'bartpy/')\n",
        "sys.path.insert(0,'ParKCa/src/')\n",
        "from ParKCa.src.train import *\n",
        "from CompBioAndSimulated_Datasets.simulated_data_multicause import *\n",
        "\n",
        "\n",
        "sdata_gwas = gwas_simulated_data(prop_tc=0.05, pca_path='/content/CompBioAndSimulated_Datasets/data/tgp_pca2.txt')\n",
        "X, y, y01, treatement_columns, treatment_effects, group  = sdata_gwas.generate_samples()"
      ],
      "execution_count": 2,
      "outputs": [
        {
          "output_type": "stream",
          "text": [
            "WARNING:tensorflow:From /usr/local/lib/python3.7/dist-packages/tensorflow/python/compat/v2_compat.py:96: disable_resource_variables (from tensorflow.python.ops.variable_scope) is deprecated and will be removed in a future version.\n",
            "Instructions for updating:\n",
            "non-resource variables are not supported in the long term\n",
            "GWAS simulated data initialized!\n",
            "... Treatments:  5\n",
            "... Confounders:  95\n",
            " Data Simulation Done!\n"
          ],
          "name": "stdout"
        }
      ]
    },
    {
      "cell_type": "markdown",
      "metadata": {
        "id": "U5UcqJ15FMPI"
      },
      "source": [
        "Level 1 data in a small example"
      ]
    },
    {
      "cell_type": "code",
      "metadata": {
        "colab": {
          "base_uri": "https://localhost:8080/"
        },
        "id": "b3Vjd3eHtkSD",
        "outputId": "962c4d85-8efb-4175-f7ef-b8c8314e31e3"
      },
      "source": [
        "colnamesX = ['Col'+str(i) for i in range(X.shape[1])]\n",
        "level1 = learners(['CEVAE','DA','BART'],pd.DataFrame(X),y01, TreatCols = treatement_columns, colnamesX=colnamesX)\n",
        "level1['true']=treatment_effects[treatement_columns]\n",
        "print(level1)"
      ],
      "execution_count": 3,
      "outputs": [
        {
          "output_type": "stream",
          "text": [
            "\n",
            "\n",
            "Learner: DA\n",
            "... There are  1  versions of DA\n",
            "...... Version 1/ 1\n",
            "Running DA\n",
            "... Done Holdout\n",
            "... Done PPCA\n",
            "... Pass Predictive Check: 0.5382618050613217\n",
            "... Fitting Outcome Model\n",
            "... Leaner Evaluation:\n",
            "... Training set: F1 -  0.5062388591800356 1015 1790\n",
            "...... confusion matrix: \n",
            " [4605  305 1080  710]\n",
            "... Testing set: F1 -  0.4835329341317364 474 862\n",
            "...... confusion matrix: \n",
            " [2287  151  539  323]\n",
            "Done!\n",
            "\n",
            "\n",
            "Learner: BART\n",
            "Running BART\n"
          ],
          "name": "stdout"
        },
        {
          "output_type": "stream",
          "text": [
            "  1%|          | 1/100 [00:00<00:15,  6.21it/s]"
          ],
          "name": "stderr"
        },
        {
          "output_type": "stream",
          "text": [
            "Starting burn\n"
          ],
          "name": "stdout"
        },
        {
          "output_type": "stream",
          "text": [
            "100%|██████████| 100/100 [00:04<00:00, 20.75it/s]\n",
            "  2%|▏         | 3/200 [00:00<00:08, 22.17it/s]"
          ],
          "name": "stderr"
        },
        {
          "output_type": "stream",
          "text": [
            "Starting sampling\n"
          ],
          "name": "stdout"
        },
        {
          "output_type": "stream",
          "text": [
            "100%|██████████| 200/200 [00:08<00:00, 22.31it/s]\n"
          ],
          "name": "stderr"
        },
        {
          "output_type": "stream",
          "text": [
            "... Evaluation:\n",
            "... Training set: F1 -  0.5620275678079146\n",
            "...... confusion matrix:  [3466 1444  526 1264]\n",
            "... Testing set: F1 -  0.5287885766927682\n",
            "...... confusion matrix:  [1703  735  288  574]\n",
            "...... predictions\n",
            "CATE In progress\n",
            "Done!\n",
            "\n",
            "\n",
            " Learner: CEVAE\n",
            "Available devices  1\n",
            "Current cuda device  0\n",
            "Note: Treatments should be the first columns of X\n",
            "Not using Partitions 500 5\n",
            "...Shapes: (6700, 100)\n",
            "... Evaluation (average  5  treatments): F1 = 0.5512282544794254  Errors: 0\n",
            "Done!\n",
            "  causes     DA_15      BART     CEVAE      true\n",
            "0     T0  0.025571  0.000000  0.078673  0.113764\n",
            "1     T1 -0.170891 -0.107785 -0.055790  1.124890\n",
            "2     T2  0.585069  0.407762  0.478472 -2.240795\n",
            "3     T3 -0.280986 -0.142548 -0.129494  1.560597\n",
            "4     T4  0.251970  0.169199  0.221605 -0.941178\n"
          ],
          "name": "stdout"
        }
      ]
    },
    {
      "cell_type": "markdown",
      "metadata": {
        "id": "1T8b7Na4FRHp"
      },
      "source": [
        "TODO: Meta-learners "
      ]
    }
  ]
}